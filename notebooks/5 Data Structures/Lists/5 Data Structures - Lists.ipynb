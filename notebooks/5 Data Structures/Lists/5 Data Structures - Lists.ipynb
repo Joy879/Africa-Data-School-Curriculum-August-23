{
 "cells": [
  {
   "cell_type": "markdown",
   "id": "1e1d64a7",
   "metadata": {},
   "source": [
    "# Data Structures"
   ]
  },
  {
   "cell_type": "markdown",
   "id": "8099174d",
   "metadata": {},
   "source": [
    "## Table of Contents\n",
    "\n",
    "### 1 Lists\n",
    "\n",
    "* Creating and accessing lists\n",
    "* Indexing\n",
    "\n",
    "\n",
    "### 2 Assignment Lab or Practical Work"
   ]
  },
  {
   "cell_type": "markdown",
   "id": "aaa846ce",
   "metadata": {},
   "source": [
    "## Lists\n",
    "Lists are used to store collections of items. They can contain items of different types and can be modified."
   ]
  },
  {
   "cell_type": "markdown",
   "id": "eb1ead4f",
   "metadata": {},
   "source": [
    "### Creating and accessing lists\n",
    "In Python, lists are created using square brackets []. Here's an example:"
   ]
  },
  {
   "cell_type": "code",
   "execution_count": 2,
   "id": "f4167841",
   "metadata": {},
   "outputs": [],
   "source": [
    "mylist= [\"apple\", \"banana\", \"cherry\", \"Alice\", \"John\", \"ADS\", \"ple\", \"ban\", \"che\", \"Ali\", \"Joh\", \"AD\"]\n"
   ]
  },
  {
   "cell_type": "markdown",
   "id": "f07c62a2",
   "metadata": {},
   "source": [
    "## Indexing"
   ]
  },
  {
   "cell_type": "markdown",
   "id": "8231598e",
   "metadata": {},
   "source": [
    "### Accessing Individual Items"
   ]
  },
  {
   "cell_type": "markdown",
   "id": "e8d7b935",
   "metadata": {},
   "source": [
    "When accessing individual items in a list you can work with either positive indexing or negative indexing\n",
    "\n",
    "* With positive indexing we start counting from the front and the first index is 0\n",
    "* With negative indexing we start counting from the back and the last index is -1 \n",
    "\n",
    "We can demonstrate this with our list1\n",
    "\n",
    "\n",
    "* positive indexing\n",
    "\n",
    "    ```[\"apple\", \"banana\", \"cherry\", \"Alice\", \"John\", \"ADS\"]```\n",
    "\n",
    "\n",
    "\n",
    "          0     ,   1 ,     2    ,    3   ,     4,     5  \n",
    "          \n",
    "* negative indexing\n",
    "\n",
    "    ```[\"apple\", \"banana\", \"cherry\", \"Alice\", \"John\", \"ADS\"]```\n",
    "\n",
    "\n",
    "\n",
    "      -6     ,   -5 ,    -4    ,    -3   ,     -2,     -1 \n"
   ]
  },
  {
   "cell_type": "code",
   "execution_count": 19,
   "id": "1545b13e",
   "metadata": {},
   "outputs": [],
   "source": [
    "list1 = [\"apple\", \"banana\", \"cherry\", \"Alice\", \"John\", \"ADS\"]"
   ]
  },
  {
   "cell_type": "code",
   "execution_count": 20,
   "id": "347c2182",
   "metadata": {},
   "outputs": [
    {
     "data": {
      "text/plain": [
       "'John'"
      ]
     },
     "execution_count": 20,
     "metadata": {},
     "output_type": "execute_result"
    }
   ],
   "source": [
    "# John from positive indexing \n",
    "list1[4]"
   ]
  },
  {
   "cell_type": "code",
   "execution_count": 16,
   "id": "fe0e6aed",
   "metadata": {},
   "outputs": [
    {
     "data": {
      "text/plain": [
       "'John'"
      ]
     },
     "execution_count": 16,
     "metadata": {},
     "output_type": "execute_result"
    }
   ],
   "source": [
    "# John from negative indexing\n",
    "list1[-2]"
   ]
  },
  {
   "cell_type": "code",
   "execution_count": 13,
   "id": "b4eef010",
   "metadata": {},
   "outputs": [
    {
     "data": {
      "text/plain": [
       "'Alice'"
      ]
     },
     "execution_count": 13,
     "metadata": {},
     "output_type": "execute_result"
    }
   ],
   "source": [
    "#Alice from negative indexing\n",
    "list1[-3]"
   ]
  },
  {
   "cell_type": "code",
   "execution_count": 14,
   "id": "18949f4c",
   "metadata": {},
   "outputs": [
    {
     "data": {
      "text/plain": [
       "'Alice'"
      ]
     },
     "execution_count": 14,
     "metadata": {},
     "output_type": "execute_result"
    }
   ],
   "source": [
    "# Alice from positive indexing\n",
    "list1[3]"
   ]
  },
  {
   "cell_type": "code",
   "execution_count": 21,
   "id": "4da18e02",
   "metadata": {},
   "outputs": [
    {
     "data": {
      "text/plain": [
       "'banana'"
      ]
     },
     "execution_count": 21,
     "metadata": {},
     "output_type": "execute_result"
    }
   ],
   "source": [
    "# Banana  from positive indexing\n",
    "list1[1]"
   ]
  },
  {
   "cell_type": "markdown",
   "id": "7281e040",
   "metadata": {},
   "source": [
    "## Accessing multiple sequential Items ( slicing)"
   ]
  },
  {
   "cell_type": "markdown",
   "id": "375aebef",
   "metadata": {},
   "source": [
    "When accessing multiple items we work with a *range* of indexes\n",
    "\n",
    "e.g.  to get   ```[\"apple\", \"banana\"] ``` from \n",
    "```[\"apple\", \"banana\", \"cherry\", \"Alice\", \"John\", \"ADS\"]```\n",
    "\n",
    "we will say we need items from index 0 to index 2. \n",
    "\n",
    "Or written otherwise ```list1[0:2]``` \n",
    "\n",
    "What you need to be keen on is the item whose index is referenced after the colon won't be included in the selection"
   ]
  },
  {
   "cell_type": "code",
   "execution_count": 3,
   "id": "e6181146",
   "metadata": {},
   "outputs": [
    {
     "data": {
      "text/plain": [
       "['apple', 'banana']"
      ]
     },
     "execution_count": 3,
     "metadata": {},
     "output_type": "execute_result"
    }
   ],
   "source": [
    "# apple, banana\n",
    "list1[0:2]"
   ]
  },
  {
   "cell_type": "code",
   "execution_count": 22,
   "id": "2935d925",
   "metadata": {},
   "outputs": [
    {
     "data": {
      "text/plain": [
       "['banana', 'cherry']"
      ]
     },
     "execution_count": 22,
     "metadata": {},
     "output_type": "execute_result"
    }
   ],
   "source": [
    "# banana, cherry\n",
    "list1[1:3]"
   ]
  },
  {
   "cell_type": "code",
   "execution_count": 24,
   "id": "980fab42",
   "metadata": {},
   "outputs": [
    {
     "data": {
      "text/plain": [
       "['Alice', 'John']"
      ]
     },
     "execution_count": 24,
     "metadata": {},
     "output_type": "execute_result"
    }
   ],
   "source": [
    "# Alice, John\n",
    "list1[3:5]"
   ]
  },
  {
   "cell_type": "markdown",
   "id": "03cc947c",
   "metadata": {},
   "source": [
    "### Accessing all items from the start or  all items to the end of the list"
   ]
  },
  {
   "cell_type": "markdown",
   "id": "bdebf908",
   "metadata": {},
   "source": [
    "Usually when a list needs to be sliced from the start up to some point, we just can choose to write our code like this \n",
    "\n",
    "e.g. to get ```[\"apple\", \"banana\"]```  from ```[\"apple\", \"banana\", \"cherry\", \"Alice\", \"John\", \"ADS\"]```\n",
    "\n",
    "we will say we need items from index 0 to index 2.\n",
    "\n",
    "Option a is ```list1[:2]```\n",
    "\n",
    "Or written otherwise ```list1[0:2]```"
   ]
  },
  {
   "cell_type": "code",
   "execution_count": 4,
   "id": "c5491b69",
   "metadata": {},
   "outputs": [
    {
     "data": {
      "text/plain": [
       "['apple', 'banana', 'cherry']"
      ]
     },
     "execution_count": 4,
     "metadata": {},
     "output_type": "execute_result"
    }
   ],
   "source": [
    "#  Start of list up to cherry\n",
    "list1[:3]"
   ]
  },
  {
   "cell_type": "code",
   "execution_count": 5,
   "id": "71f61d24",
   "metadata": {},
   "outputs": [
    {
     "data": {
      "text/plain": [
       "['apple', 'banana', 'cherry', 'Alice', 'John']"
      ]
     },
     "execution_count": 5,
     "metadata": {},
     "output_type": "execute_result"
    }
   ],
   "source": [
    "#  Start of list up to John\n",
    "list1[:5]"
   ]
  },
  {
   "cell_type": "markdown",
   "id": "c883a797",
   "metadata": {},
   "source": [
    "The same logic can be used when accessing all items from a certain starting point all the way to the end of the list\n",
    "\n",
    "e.g. to get ```[\"Alice\", \"John\", \"ADS\"]```  from ```[\"apple\", \"banana\", \"cherry\", \"Alice\", \"John\", \"ADS\"]```\n",
    "\n",
    "we will say we need items from index 3 to the last item.\n",
    "\n",
    "We will use ```list1[3:]```\n"
   ]
  },
  {
   "cell_type": "code",
   "execution_count": 10,
   "id": "9bf801c4",
   "metadata": {},
   "outputs": [
    {
     "data": {
      "text/plain": [
       "['cherry', 'Alice', 'John', 'ADS']"
      ]
     },
     "execution_count": 10,
     "metadata": {},
     "output_type": "execute_result"
    }
   ],
   "source": [
    "#  cherry to end of list\n",
    "list1[2:]"
   ]
  },
  {
   "cell_type": "code",
   "execution_count": 7,
   "id": "dea593cf",
   "metadata": {},
   "outputs": [
    {
     "data": {
      "text/plain": [
       "['cherry', 'Alice', 'John', 'ADS']"
      ]
     },
     "execution_count": 7,
     "metadata": {},
     "output_type": "execute_result"
    }
   ],
   "source": [
    "#  cherry to end of list using negative indexing\n",
    "list1[-4:]"
   ]
  },
  {
   "cell_type": "code",
   "execution_count": 8,
   "id": "172169b0",
   "metadata": {},
   "outputs": [
    {
     "data": {
      "text/plain": [
       "['John', 'ADS']"
      ]
     },
     "execution_count": 8,
     "metadata": {},
     "output_type": "execute_result"
    }
   ],
   "source": [
    "# John to end of list\n",
    "list1[4:] "
   ]
  },
  {
   "cell_type": "markdown",
   "id": "6b539418",
   "metadata": {},
   "source": [
    "## Acessing all items"
   ]
  },
  {
   "cell_type": "code",
   "execution_count": 26,
   "id": "daf8ef6a",
   "metadata": {},
   "outputs": [
    {
     "data": {
      "text/plain": [
       "['apple', 'banana', 'cherry', 'Alice', 'John', 'ADS']"
      ]
     },
     "execution_count": 26,
     "metadata": {},
     "output_type": "execute_result"
    }
   ],
   "source": [
    "list1[:]"
   ]
  },
  {
   "cell_type": "code",
   "execution_count": 27,
   "id": "f2b4c5e8",
   "metadata": {},
   "outputs": [
    {
     "data": {
      "text/plain": [
       "['apple', 'banana', 'cherry', 'Alice', 'John', 'ADS']"
      ]
     },
     "execution_count": 27,
     "metadata": {},
     "output_type": "execute_result"
    }
   ],
   "source": [
    "list1"
   ]
  },
  {
   "cell_type": "markdown",
   "id": "32fa61a3",
   "metadata": {},
   "source": [
    "## Step size"
   ]
  },
  {
   "cell_type": "markdown",
   "id": "a9008437",
   "metadata": {},
   "source": [
    "You can add a secondary colon in your indexing statement to help you determine the step size( how many elements to skip before choosing the next element)"
   ]
  },
  {
   "cell_type": "code",
   "execution_count": 28,
   "id": "fe220667",
   "metadata": {},
   "outputs": [
    {
     "data": {
      "text/plain": [
       "['apple',\n",
       " 'banana',\n",
       " 'cherry',\n",
       " 'Alice',\n",
       " 'John',\n",
       " 'ADS',\n",
       " 'ple',\n",
       " 'ban',\n",
       " 'che',\n",
       " 'Ali',\n",
       " 'Joh',\n",
       " 'AD']"
      ]
     },
     "execution_count": 28,
     "metadata": {},
     "output_type": "execute_result"
    }
   ],
   "source": [
    "list2"
   ]
  },
  {
   "cell_type": "code",
   "execution_count": 29,
   "id": "fa45e198",
   "metadata": {},
   "outputs": [
    {
     "data": {
      "text/plain": [
       "['apple', 'cherry', 'John', 'ple', 'che', 'Joh']"
      ]
     },
     "execution_count": 29,
     "metadata": {},
     "output_type": "execute_result"
    }
   ],
   "source": [
    "# Taking a step size of 2\n",
    "list2[::2]"
   ]
  },
  {
   "cell_type": "code",
   "execution_count": 84,
   "id": "ab12fa35",
   "metadata": {},
   "outputs": [],
   "source": [
    "# FOOD FOR THOUGHT\n",
    "# How to find NON SEQUENTIAL items -> [\"apple\", \"cherry\", \"ADS\"]"
   ]
  },
  {
   "cell_type": "markdown",
   "id": "1f7e87c8",
   "metadata": {},
   "source": [
    "## Tuples\n",
    "Tuples are similar to lists, but they are immutable (cannot be modified)"
   ]
  },
  {
   "cell_type": "markdown",
   "id": "939e4941",
   "metadata": {},
   "source": [
    "### Creating and accessing tuples\n",
    "In Python, tuples are created using parentheses (). Here's an example:"
   ]
  },
  {
   "cell_type": "code",
   "execution_count": 6,
   "id": "6009a9a6",
   "metadata": {},
   "outputs": [],
   "source": [
    "fruits = (\"apple\", \"banana\", \"cherry\")"
   ]
  },
  {
   "cell_type": "markdown",
   "id": "1cdc8be1",
   "metadata": {},
   "source": [
    "You can access items in a tuple by their index, just like with a list. Here's an example:"
   ]
  },
  {
   "cell_type": "code",
   "execution_count": 7,
   "id": "f11f132d",
   "metadata": {},
   "outputs": [
    {
     "name": "stdout",
     "output_type": "stream",
     "text": [
      "apple\n"
     ]
    }
   ],
   "source": [
    "fruits = (\"apple\", \"banana\", \"cherry\")\n",
    "print(fruits[0])    # prints \"apple\""
   ]
  },
  {
   "cell_type": "markdown",
   "id": "ebca0765",
   "metadata": {},
   "source": [
    "### Creating and accessing dictionaries\n",
    "In Python, dictionaries are created using curly braces {}. Here's an example:"
   ]
  },
  {
   "cell_type": "markdown",
   "id": "3968bf86",
   "metadata": {},
   "source": [
    "You can access values in a dictionary by their keys. Here's an example:"
   ]
  },
  {
   "cell_type": "code",
   "execution_count": 10,
   "id": "47e5dc73",
   "metadata": {},
   "outputs": [
    {
     "name": "stdout",
     "output_type": "stream",
     "text": [
      "Alice\n"
     ]
    }
   ],
   "source": [
    "person = {\n",
    "    \"name\": \"Alice\",\n",
    "    \"age\": 30,\n",
    "    \"city\": \"New York\"\n",
    "}\n",
    "\n",
    "print(person[\"name\"])   # prints \"Alice\""
   ]
  },
  {
   "cell_type": "markdown",
   "id": "96d43fc5",
   "metadata": {},
   "source": [
    "## Sets\n",
    "\n",
    "A set is a collection of unique values that are unordered and unindexed. Sets are defined using curly braces { }."
   ]
  },
  {
   "cell_type": "markdown",
   "id": "a4f55153",
   "metadata": {},
   "source": [
    "### Creating and accessing sets\n",
    "Here's an example of creating a set:"
   ]
  },
  {
   "cell_type": "code",
   "execution_count": 12,
   "id": "2a271eac",
   "metadata": {},
   "outputs": [],
   "source": [
    "fruits = {\"apple\", \"banana\", \"cherry\"}"
   ]
  },
  {
   "cell_type": "markdown",
   "id": "6cdf3530",
   "metadata": {},
   "source": [
    "## Data Structures Assignment using Replit\n",
    "\n",
    "### Objective:\n",
    "The goal of this assignment is to help you practice data structures in Python. You will use Replit to write, run, and share Python scripts that demonstrate your understanding of lists, tuples, dictionaries, and sets, along with their methods and comprehension techniques.\n",
    "\n",
    "### Tasks:"
   ]
  },
  {
   "cell_type": "markdown",
   "id": "d5db1da3",
   "metadata": {},
   "source": [
    "### 1 Create a new Python Repl:\n",
    "\n",
    "* Follow the instructions in the \"Getting Started with Replit Python\" tutorial to create a new Python Repl.\n",
    "* Name your Repl \"Day5DataStructuresAssignment\""
   ]
  },
  {
   "cell_type": "markdown",
   "id": "6c8f1269",
   "metadata": {},
   "source": [
    "### 2 Write a Python script that demonstrates the use of lists:\n",
    "\n",
    "* In your Python Repl, create a list of integers and perform the following operations:\n",
    "* Access the first element of the list using positive indexing\n",
    "* Access the third last element using negative indexing\n",
    "* Given the list \n",
    "```['Python', 'is', 'an', 'interesting', 'language', 'but', 'it', 'definitely', 'needs', 'practice'] ```\n",
    " \n",
    "  perform the following operations using indexing:\n",
    "  \n",
    "* Extract  ```['interesting', 'language', 'but', 'it']```\n",
    "* Extract ```['Python', 'is', 'an', 'interesting']```\n",
    "* Extract ```['it', 'definitely', 'needs', 'practice']```\n",
    "* Extract ```['Python','an','language', 'it', 'needs']```\n",
    "* Extract ```['Python','interesting', 'it', 'practice']```\n",
    "\n",
    "\n",
    "Using the same list:\n",
    "\n",
    "* Try reversing it to become \n",
    "\n",
    "```['practice', 'needs', 'definitely', 'it', 'but', 'language', 'interesting','an', 'is', 'Python']```\n",
    "\n",
    "* Save your new slice lists into variables and print them on the console.\n",
    "* Print the original and the new lists to the console.\n",
    "\n",
    "\n",
    "#### Bonus question\n",
    "\n",
    "Create a list as shown below  and solve the folloeing questions:\n",
    "```[0,1,2,3,4,5,6,7,8,9,10]```\n",
    "\n",
    "* Using indexing return a list of all even numbers\n",
    "* Using indexing return a list of all odd numbers\n",
    "* Using indexing return all multiples of 3\n",
    "* Using indexing return all multiples of 5"
   ]
  },
  {
   "cell_type": "markdown",
   "id": "477d9a00",
   "metadata": {},
   "source": [
    "### 3 Share your Python Repl:\n",
    "\n",
    "Once you have completed the tasks above, share your Repl by following the instructions in the \"Getting Started with Replit Python\" tutorial.\n",
    "Submit the link to your shared Repl as your assignment.\n",
    "\n",
    "Note: If you encounter any difficulties or have questions about Python data structures, you can refer to the Python documentation (https://docs.python.org/3/tutorial/datastructures.html) or ask for help from your instructor or peers."
   ]
  }
 ],
 "metadata": {
  "kernelspec": {
   "display_name": "Python 3 (ipykernel)",
   "language": "python",
   "name": "python3"
  },
  "language_info": {
   "codemirror_mode": {
    "name": "ipython",
    "version": 3
   },
   "file_extension": ".py",
   "mimetype": "text/x-python",
   "name": "python",
   "nbconvert_exporter": "python",
   "pygments_lexer": "ipython3",
   "version": "3.9.13"
  }
 },
 "nbformat": 4,
 "nbformat_minor": 5
}
