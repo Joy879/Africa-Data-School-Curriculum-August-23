{
 "cells": [
  {
   "cell_type": "markdown",
   "id": "b85f5009",
   "metadata": {},
   "source": [
    "# String methods, Dictionaries, Control Flow and Loops"
   ]
  },
  {
   "cell_type": "markdown",
   "id": "087493ea",
   "metadata": {},
   "source": [
    "## Table of Contents\n",
    "### QA responses\n",
    "\n",
    "### 1 String methods\n",
    " * split\n",
    " \n",
    "### 2 Dictonaries\n",
    " * Accessing items\n",
    " * Useful methods\n",
    " * Adding items\n",
    " \n",
    "### 3 Conditional statements\n",
    " * if, elif, and else\n",
    " \n",
    "### 4 Loops\n",
    "* for loops\n",
    "* while loops\n",
    "\n",
    "### 5 Loop control statements\n",
    "* break\n",
    "* continue\n",
    "\n",
    "### 6 Assignment Lab or Practical Work"
   ]
  },
  {
   "cell_type": "markdown",
   "id": "97141a9b",
   "metadata": {},
   "source": [
    "## QA Session"
   ]
  },
  {
   "cell_type": "markdown",
   "id": "199f2948",
   "metadata": {},
   "source": [
    "#### 1. Where do you get Jupyter\n",
    "* Install anaconda in your PC from this [link](https://www.anaconda.com/download/)\n",
    "* Find guide links listed [here](https://github.com/Joy879/installs)\n"
   ]
  },
  {
   "cell_type": "markdown",
   "id": "9c276589",
   "metadata": {},
   "source": [
    "#### 2. Be left only with unique values in a list"
   ]
  },
  {
   "cell_type": "code",
   "execution_count": 12,
   "id": "ea33662b",
   "metadata": {},
   "outputs": [
    {
     "name": "stdout",
     "output_type": "stream",
     "text": [
      "['apple', 'banana', 'cherry', 'Alice', 'cherry', 'cherry']\n",
      "['banana', 'Alice', 'apple', 'cherry']\n"
     ]
    }
   ],
   "source": [
    "list2= [\"apple\", \"banana\", \"cherry\", \"Alice\",\"cherry\", \"cherry\" ]\n",
    "print(list2)\n",
    "\n",
    "# make list a set to deal with duplications\n",
    "newset = set(list2)\n",
    "# make set a list to bring it back to preferred form\n",
    "list2 = list(newset)\n",
    "\n",
    "print(list2)"
   ]
  },
  {
   "cell_type": "markdown",
   "id": "1db88685",
   "metadata": {},
   "source": [
    "## String method"
   ]
  },
  {
   "cell_type": "code",
   "execution_count": 13,
   "id": "04084aa8",
   "metadata": {},
   "outputs": [],
   "source": [
    "# Split string into list\n",
    "address = 'PO BOX 1896, Nairobi, Kenya'"
   ]
  },
  {
   "cell_type": "code",
   "execution_count": 14,
   "id": "bea8e164",
   "metadata": {},
   "outputs": [
    {
     "name": "stdout",
     "output_type": "stream",
     "text": [
      "['PO BOX 1896', ' Nairobi', ' Kenya']\n"
     ]
    }
   ],
   "source": [
    "list3 = address.split(\",\")\n",
    "print(list3)"
   ]
  },
  {
   "cell_type": "code",
   "execution_count": 15,
   "id": "14c5d99b",
   "metadata": {},
   "outputs": [],
   "source": [
    "city = list3[1]"
   ]
  },
  {
   "cell_type": "code",
   "execution_count": 16,
   "id": "26f4db0f",
   "metadata": {},
   "outputs": [
    {
     "name": "stdout",
     "output_type": "stream",
     "text": [
      " Nairobi\n"
     ]
    }
   ],
   "source": [
    "print(city)"
   ]
  },
  {
   "cell_type": "markdown",
   "id": "f7853cfd",
   "metadata": {},
   "source": [
    "### Dictionaries\n",
    "Dictionaries are used to store key-value pairs. Each key is associated with a value, and the key-value pairs are separated by commas."
   ]
  },
  {
   "cell_type": "markdown",
   "id": "aa816acd",
   "metadata": {},
   "source": [
    "### Creating and accessing dictionaries\n",
    "In Python, dictionaries are created using curly braces {}. Here's an example:"
   ]
  },
  {
   "cell_type": "code",
   "execution_count": 17,
   "id": "3958d6e0",
   "metadata": {},
   "outputs": [],
   "source": [
    "person = {\n",
    "    \"name\": \"Alice\",\n",
    "    \"age\": 30,\n",
    "    \"city\": \"New York\"\n",
    "}"
   ]
  },
  {
   "cell_type": "code",
   "execution_count": 18,
   "id": "611a810e",
   "metadata": {},
   "outputs": [
    {
     "name": "stdout",
     "output_type": "stream",
     "text": [
      "Alice\n"
     ]
    }
   ],
   "source": [
    "print(person[\"name\"])"
   ]
  },
  {
   "cell_type": "markdown",
   "id": "15cfc5de",
   "metadata": {},
   "source": [
    "### Dictionary methods\n",
    "Dictionaries have built-in methods that can be used to perform operations on them. Here are a few examples:"
   ]
  },
  {
   "cell_type": "code",
   "execution_count": 20,
   "id": "820f38c4",
   "metadata": {},
   "outputs": [],
   "source": [
    "person = {\n",
    "    \"name\": \"Alice\",\n",
    "    \"age\": 30,\n",
    "    \"city\": \"New York\"\n",
    "}\n",
    "\n",
    "# keys()\n",
    "keys = person.keys()\n",
    "\n",
    "# values()\n",
    "values = person.values()\n",
    "\n",
    "# items()\n",
    "#Get all items of a dictionary with items()\n",
    "items = person.items()"
   ]
  },
  {
   "cell_type": "code",
   "execution_count": 21,
   "id": "08d08b27",
   "metadata": {},
   "outputs": [
    {
     "name": "stdout",
     "output_type": "stream",
     "text": [
      "dict_keys(['name', 'age', 'city'])\n",
      "dict_values(['Alice', 30, 'New York'])\n",
      "dict_items([('name', 'Alice'), ('age', 30), ('city', 'New York')])\n"
     ]
    }
   ],
   "source": [
    "print(keys)\n",
    "print(values)\n",
    "print(items)"
   ]
  },
  {
   "cell_type": "markdown",
   "id": "2c8b3e09",
   "metadata": {},
   "source": [
    "### Adding new key value pairs"
   ]
  },
  {
   "cell_type": "code",
   "execution_count": 22,
   "id": "57c8c7e5",
   "metadata": {},
   "outputs": [],
   "source": [
    "# Add a new key value pair\n",
    "person[\"phone\"] = 75555"
   ]
  },
  {
   "cell_type": "code",
   "execution_count": 23,
   "id": "5d2cb970",
   "metadata": {},
   "outputs": [
    {
     "data": {
      "text/plain": [
       "dict_items([('name', 'Alice'), ('age', 30), ('city', 'New York'), ('phone', 75555)])"
      ]
     },
     "execution_count": 23,
     "metadata": {},
     "output_type": "execute_result"
    }
   ],
   "source": [
    "person.items()"
   ]
  },
  {
   "cell_type": "markdown",
   "id": "eccf57b0",
   "metadata": {},
   "source": [
    "### Making copies"
   ]
  },
  {
   "cell_type": "code",
   "execution_count": 27,
   "id": "64a7c44d",
   "metadata": {},
   "outputs": [],
   "source": [
    "person1 = person.copy()\n",
    "person2 = person.copy()\n",
    "person3 = person.copy()"
   ]
  },
  {
   "cell_type": "code",
   "execution_count": 28,
   "id": "e6e9100e",
   "metadata": {},
   "outputs": [],
   "source": [
    "# Modifying items\n",
    "person1['name'] = 'Jane'\n",
    "person1['age'] = 26\n",
    "person2['name'] = 'Elly'\n",
    "person2['age'] = 18\n",
    "person3['name'] = 'Dedan'\n",
    "person3['age'] = 70"
   ]
  },
  {
   "cell_type": "code",
   "execution_count": 34,
   "id": "a5c2bee1",
   "metadata": {},
   "outputs": [],
   "source": [
    "students = [person, person1, person2, person3]"
   ]
  },
  {
   "cell_type": "code",
   "execution_count": 35,
   "id": "b2ed287f",
   "metadata": {},
   "outputs": [
    {
     "name": "stdout",
     "output_type": "stream",
     "text": [
      "[{'name': 'Alice', 'age': 30, 'city': 'New York', 'phone': 75555}, {'name': 'Jane', 'age': 26, 'city': 'New York', 'phone': 75555}, {'name': 'Elly', 'age': 18, 'city': 'New York', 'phone': 75555}, {'name': 'Dedan', 'age': 70, 'city': 'New York', 'phone': 75555}]\n"
     ]
    }
   ],
   "source": [
    "print(student)"
   ]
  },
  {
   "cell_type": "code",
   "execution_count": 36,
   "id": "e15675a1",
   "metadata": {},
   "outputs": [
    {
     "data": {
      "text/plain": [
       "26"
      ]
     },
     "execution_count": 36,
     "metadata": {},
     "output_type": "execute_result"
    }
   ],
   "source": [
    "#Access person1 age\n",
    "student[1]['age']"
   ]
  },
  {
   "cell_type": "markdown",
   "id": "69600f1f",
   "metadata": {},
   "source": [
    "## Loops\n",
    "Loops are used to execute the same block of code multiple times."
   ]
  },
  {
   "cell_type": "markdown",
   "id": "40f7ada1",
   "metadata": {},
   "source": [
    "### for loops\n",
    "A for loop is used to iterate over a sequence (such as a list or a string) and execute a block of code for each item in the sequence. Here's an example:"
   ]
  },
  {
   "cell_type": "code",
   "execution_count": 32,
   "id": "69177d16",
   "metadata": {},
   "outputs": [
    {
     "name": "stdout",
     "output_type": "stream",
     "text": [
      "apple\n",
      "banana\n",
      "cherry\n"
     ]
    }
   ],
   "source": [
    "fruits = [\"apple\", \"banana\", \"cherry\"]\n",
    "\n",
    "for fruit in fruits:\n",
    "    print(fruit)\n"
   ]
  },
  {
   "cell_type": "markdown",
   "id": "a95c1916",
   "metadata": {},
   "source": [
    "#### Practical demo:\n",
    "\n",
    "Taking our ```student``` list from before, how can we retrieve every student name? "
   ]
  },
  {
   "cell_type": "code",
   "execution_count": 38,
   "id": "8c6694b3",
   "metadata": {},
   "outputs": [
    {
     "name": "stdout",
     "output_type": "stream",
     "text": [
      "Alice\n",
      "Jane\n",
      "Elly\n",
      "Dedan\n"
     ]
    }
   ],
   "source": [
    "for student in students:\n",
    "    print(student['name'])"
   ]
  },
  {
   "cell_type": "markdown",
   "id": "3ef35fb2",
   "metadata": {},
   "source": [
    "#### Practical demo:\n",
    "\n",
    "Taking our ```student``` list from before, how can we retrieve every student name and say hi to them?"
   ]
  },
  {
   "cell_type": "code",
   "execution_count": 40,
   "id": "c102af8c",
   "metadata": {},
   "outputs": [
    {
     "name": "stdout",
     "output_type": "stream",
     "text": [
      "Hi Alice! Welcome to Python Programming\n",
      "Hi Jane! Welcome to Python Programming\n",
      "Hi Elly! Welcome to Python Programming\n",
      "Hi Dedan! Welcome to Python Programming\n"
     ]
    }
   ],
   "source": [
    "for student in students:\n",
    "    name = student['name']\n",
    "    print(f'Hi {name}! Welcome to Python Programming')"
   ]
  },
  {
   "cell_type": "markdown",
   "id": "29bbf4b1",
   "metadata": {},
   "source": [
    "#### Practical demo:\n",
    "\n",
    "Taking our ```student``` list from before, how can we retrieve every student age and add 8 years each?"
   ]
  },
  {
   "cell_type": "code",
   "execution_count": 41,
   "id": "bda10772",
   "metadata": {},
   "outputs": [
    {
     "name": "stdout",
     "output_type": "stream",
     "text": [
      "You will be 38 years old when this program ends. Are you sure you want to continue?\n",
      "You will be 34 years old when this program ends. Are you sure you want to continue?\n",
      "You will be 26 years old when this program ends. Are you sure you want to continue?\n",
      "You will be 78 years old when this program ends. Are you sure you want to continue?\n"
     ]
    }
   ],
   "source": [
    "for student in students:\n",
    "    age = student['age']\n",
    "    age1 = age+8\n",
    "    print(f'You will be {age1} years old when this program ends. Are you sure you want to continue?')"
   ]
  },
  {
   "cell_type": "markdown",
   "id": "2dd232ef",
   "metadata": {},
   "source": [
    "## Conditional statements\n",
    "Conditional statements are used to execute different blocks of code depending on whether a condition is true or false."
   ]
  },
  {
   "cell_type": "markdown",
   "id": "79e9721f",
   "metadata": {},
   "source": [
    "### if, elif, and else\n",
    "\n",
    "The if statement is used to execute a block of code if a condition is true. The elif statement is used to execute a block of code if another condition is true. The else statement is used to execute a block of code if none of the previous conditions are true. Here's an example:"
   ]
  },
  {
   "cell_type": "code",
   "execution_count": 1,
   "id": "5e06c63a",
   "metadata": {},
   "outputs": [
    {
     "name": "stdout",
     "output_type": "stream",
     "text": [
      "x is greater than y\n"
     ]
    }
   ],
   "source": [
    "x = 10\n",
    "y = 5\n",
    "\n",
    "if x > y:\n",
    "    print(\"x is greater than y\")\n",
    "elif x < y:\n",
    "    print(\"x is less than y\")\n",
    "else:\n",
    "    print(\"x is equal to y\")\n"
   ]
  },
  {
   "cell_type": "markdown",
   "id": "d123c741",
   "metadata": {},
   "source": [
    "#### Practical demo:\n",
    "\n",
    "Taking our ```student``` list from before, how can we retrieve every student age and determine if they qualify for th course. \n",
    "\n",
    "###### We are assuming this course is suitable for under 35 only"
   ]
  },
  {
   "cell_type": "code",
   "execution_count": 42,
   "id": "51c76464",
   "metadata": {},
   "outputs": [
    {
     "name": "stdout",
     "output_type": "stream",
     "text": [
      "Congratulations you qualify for the course\n",
      "Congratulations you qualify for the course\n",
      "Congratulations you qualify for the course\n",
      "Sorry you do not qualify for this course\n"
     ]
    }
   ],
   "source": [
    "for student in students:\n",
    "    age = student['age']\n",
    "    if age <= 35:\n",
    "        print(f'Congratulations you qualify for the course')\n",
    "    else:\n",
    "        print(f'Sorry you do not qualify for this course')"
   ]
  },
  {
   "cell_type": "markdown",
   "id": "42a6263f",
   "metadata": {},
   "source": [
    "### while loops\n",
    "A while loop is used to execute a block of code as long as a condition is true. Here's an example:"
   ]
  },
  {
   "cell_type": "code",
   "execution_count": 44,
   "id": "c2180f57",
   "metadata": {},
   "outputs": [
    {
     "name": "stdout",
     "output_type": "stream",
     "text": [
      "1\n",
      "2\n",
      "3\n",
      "4\n",
      "5\n",
      "6\n",
      "7\n",
      "8\n",
      "9\n"
     ]
    }
   ],
   "source": [
    "i = 1\n",
    "\n",
    "while i < 10:\n",
    "    print(i)\n",
    "    i += 1\n"
   ]
  },
  {
   "cell_type": "markdown",
   "id": "34189295",
   "metadata": {},
   "source": [
    "## Loop control statements\n",
    "Loop control statements are used to change the behavior of loops."
   ]
  },
  {
   "cell_type": "markdown",
   "id": "29ad33e6",
   "metadata": {},
   "source": [
    "### break\n",
    "The break statement is used to exit a loop prematurely. Here's an example:"
   ]
  },
  {
   "cell_type": "code",
   "execution_count": 5,
   "id": "afd9fe15",
   "metadata": {},
   "outputs": [
    {
     "name": "stdout",
     "output_type": "stream",
     "text": [
      "apple\n",
      "banana\n"
     ]
    }
   ],
   "source": [
    "fruits = [\"apple\", \"banana\", \"cherry\"]\n",
    "\n",
    "for fruit in fruits:\n",
    "    print(fruit)\n",
    "    if fruit == \"banana\":\n",
    "        break\n"
   ]
  },
  {
   "cell_type": "markdown",
   "id": "de00fc14",
   "metadata": {},
   "source": [
    "### continue\n",
    "The continue statement is used to skip an iteration of a loop. Here's an example:"
   ]
  },
  {
   "cell_type": "code",
   "execution_count": 6,
   "id": "6b4b4e70",
   "metadata": {},
   "outputs": [
    {
     "name": "stdout",
     "output_type": "stream",
     "text": [
      "apple\n",
      "cherry\n"
     ]
    }
   ],
   "source": [
    "fruits = [\"apple\", \"banana\", \"cherry\"]\n",
    "\n",
    "for fruit in fruits:\n",
    "    if fruit == \"banana\":\n",
    "        continue\n",
    "    print(fruit)\n"
   ]
  },
  {
   "cell_type": "markdown",
   "id": "14645943",
   "metadata": {},
   "source": [
    "# Assignment Lab or Practical Work"
   ]
  },
  {
   "cell_type": "markdown",
   "id": "9784d769",
   "metadata": {},
   "source": [
    "##  Control Flow and Loops Assignment using Replit\n",
    "\n",
    "### Objective:\n",
    "\n",
    "The goal of this assignment is to help you practice control flow and loops in Python. You will use Replit to write, run, and share Python scripts that demonstrate your understanding of conditional statements, for loops, while loops, and loop control statements."
   ]
  },
  {
   "cell_type": "markdown",
   "id": "0dc163cc",
   "metadata": {},
   "source": [
    "Tasks:\n",
    "\n",
    "### 1 Create a new Python Repl:\n",
    "\n",
    "* Follow the instructions in the \"Getting Started with Replit Python\" tutorial to create a new Python Repl.\n",
    "* Name your Repl \"Day3ControlFlowLoopsAssignment\"."
   ]
  },
  {
   "cell_type": "markdown",
   "id": "5d6f004c",
   "metadata": {},
   "source": [
    "### 2 Write a Python script that demonstrates the use of conditional statements:\n",
    "\n",
    "* In your Python Repl, write a Python script that prompts the user for an integer using the input() function.\n",
    "* Convert the entered value from a string to an integer using the int() function.\n",
    "* Use if, elif, and else statements to check if the entered integer is positive, negative, or zero, and print the result to the console.\n"
   ]
  },
  {
   "cell_type": "markdown",
   "id": "9f688dcb",
   "metadata": {},
   "source": [
    "### 3 Write a Python script that demonstrates the use of a for loop:\n",
    "\n",
    "* In your Python Repl, write a Python script that uses a for loop to iterate over a range of integers from 1 to 10 (inclusive).\n",
    "* For each integer in the range, print the integer and its square to the console.\n"
   ]
  },
  {
   "cell_type": "markdown",
   "id": "b88ec1fa",
   "metadata": {},
   "source": [
    "### 4 Write a Python script that demonstrates the use of a while loop:\n",
    "\n",
    "* In your Python Repl, write a Python script that uses a while loop to calculate the factorial of a given positive integer.\n",
    "* Prompt the user for a positive integer using the input() function and convert the entered value to an integer.\n",
    "* Calculate the factorial of the entered number using a while loop, and print the result to the console.\n"
   ]
  },
  {
   "cell_type": "markdown",
   "id": "da1fc7a5",
   "metadata": {},
   "source": [
    "### 5 Write a Python script that demonstrates the use of loop control statements:\n",
    "\n",
    "* In your Python Repl, write a Python script that uses a for loop to iterate over a range of integers from 1 to 20 (inclusive).\n",
    "* For each integer in the range, use if statements and the continue statement to skip even numbers and only print odd numbers to the console.\n",
    "* When the loop reaches an integer greater than or equal to 15, use the break statement to exit the loop.\n"
   ]
  },
  {
   "cell_type": "markdown",
   "id": "4b08b1db",
   "metadata": {},
   "source": [
    "### 6 Share your Python Repl:\n",
    "\n",
    "* Once you have completed the tasks above, share your Repl by following the instructions in the \"Getting Started with Replit Python\" tutorial.\n",
    "* Submit the link to your shared Repl as your assignment.\n",
    "\n",
    "\n",
    "\n",
    "Note: If you encounter any difficulties or have questions about Python control flow and loops, you can refer to the Python documentation"
   ]
  },
  {
   "cell_type": "markdown",
   "id": "faa13ce4",
   "metadata": {},
   "source": [
    "# Solutions"
   ]
  },
  {
   "cell_type": "code",
   "execution_count": null,
   "id": "16c9abae",
   "metadata": {},
   "outputs": [],
   "source": [
    "### 2 Write a Python script that demonstrates the use of conditional statements:\n",
    "\n",
    "# answer\n",
    "number = int(input(\"Enter an integer: \"))\n",
    "\n",
    "if number > 0:\n",
    "    print(\"The number is positive.\")\n",
    "elif number < 0:\n",
    "    print(\"The number is negative.\")\n",
    "else:\n",
    "    print(\"The number is zero.\")\n",
    "\n",
    "\n",
    "### 3 Write a Python script that demonstrates the use of a for loop:\n",
    "#answer\n",
    "\n",
    "for i in range(1, 11):\n",
    "    print(\"Integer:\", i, \" Square:\", i**2)\n",
    "    \n",
    "    \n",
    "### 4 Write a Python script that demonstrates the use of a while loop:\n",
    "# answer\n",
    "number = int(input(\"Enter a positive integer: \"))\n",
    "factorial = 1\n",
    "counter = 1\n",
    "\n",
    "while counter <= number:\n",
    "    factorial *= counter\n",
    "    counter += 1\n",
    "\n",
    "print(\"Factorial of\", number, \"is\", factorial)\n",
    "\n",
    "### 5 Write a Python script that demonstrates the use of loop control statements:\n",
    "# answer \n",
    "for i in range(1, 21):\n",
    "    if i >= 15:\n",
    "        break\n",
    "    if i % 2 == 0:\n",
    "        continue\n",
    "    print(i)\n"
   ]
  }
 ],
 "metadata": {
  "kernelspec": {
   "display_name": "Python 3 (ipykernel)",
   "language": "python",
   "name": "python3"
  },
  "language_info": {
   "codemirror_mode": {
    "name": "ipython",
    "version": 3
   },
   "file_extension": ".py",
   "mimetype": "text/x-python",
   "name": "python",
   "nbconvert_exporter": "python",
   "pygments_lexer": "ipython3",
   "version": "3.9.13"
  }
 },
 "nbformat": 4,
 "nbformat_minor": 5
}
